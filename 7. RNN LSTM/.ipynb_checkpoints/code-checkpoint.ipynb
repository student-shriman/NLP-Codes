{
 "cells": [
  {
   "cell_type": "code",
   "execution_count": 1,
   "metadata": {},
   "outputs": [
    {
     "name": "stdout",
     "output_type": "stream",
     "text": [
      "2.3.0\n"
     ]
    }
   ],
   "source": [
    "import tensorflow as tf\n",
    "print(tf.__version__)"
   ]
  },
  {
   "cell_type": "code",
   "execution_count": 3,
   "metadata": {},
   "outputs": [],
   "source": [
    "import csv\n",
    "import tensorflow as tf\n",
    "import numpy as np\n",
    "from tensorflow.keras.preprocessing.text import Tokenizer\n",
    "from tensorflow.keras.preprocessing.sequence import pad_sequences\n",
    "from nltk.corpus import stopwords\n",
    "STOPWORDS = set(stopwords.words('english'))"
   ]
  },
  {
   "cell_type": "markdown",
   "metadata": {},
   "source": [
    "Put the hyparameters at the top like this to make it easier to change and edit."
   ]
  },
  {
   "cell_type": "code",
   "execution_count": 4,
   "metadata": {},
   "outputs": [],
   "source": [
    "vocab_size = 5000\n",
    "embedding_dim = 64\n",
    "max_length = 200\n",
    "trunc_type = 'post'\n",
    "padding_type = 'post'\n",
    "oov_tok = '<OOV>'\n",
    "training_portion = .8"
   ]
  },
  {
   "cell_type": "markdown",
   "metadata": {},
   "source": [
    "First, let's define two lists that containing articles and labels. In the meantime, we remove stopwords."
   ]
  },
  {
   "cell_type": "code",
   "execution_count": 5,
   "metadata": {},
   "outputs": [
    {
     "name": "stdout",
     "output_type": "stream",
     "text": [
      "2225\n",
      "2225\n"
     ]
    }
   ],
   "source": [
    "articles = []\n",
    "labels = []\n",
    "\n",
    "with open(\"bbc-text.csv\", 'r') as csvfile:\n",
    "    reader = csv.reader(csvfile, delimiter=',')\n",
    "    next(reader)\n",
    "    for row in reader:\n",
    "        labels.append(row[0])\n",
    "        article = row[1]\n",
    "        for word in STOPWORDS:\n",
    "            token = ' ' + word + ' '\n",
    "            article = article.replace(token, ' ')\n",
    "            article = article.replace(' ', ' ')\n",
    "        articles.append(article)\n",
    "print(len(labels))\n",
    "print(len(articles))"
   ]
  },
  {
   "cell_type": "markdown",
   "metadata": {},
   "source": [
    "There are only 2,225 articles in the data. Then we split into training set and validation set, according to the parameter we set earlier, 80% for training, 20% for validation."
   ]
  },
  {
   "cell_type": "code",
   "execution_count": 6,
   "metadata": {},
   "outputs": [
    {
     "name": "stdout",
     "output_type": "stream",
     "text": [
      "1780\n",
      "1780\n",
      "1780\n",
      "445\n",
      "445\n"
     ]
    }
   ],
   "source": [
    "train_size = int(len(articles) * training_portion)\n",
    "\n",
    "train_articles = articles[0: train_size]\n",
    "train_labels = labels[0: train_size]\n",
    "\n",
    "validation_articles = articles[train_size:]\n",
    "validation_labels = labels[train_size:]\n",
    "\n",
    "print(train_size)\n",
    "print(len(train_articles))\n",
    "print(len(train_labels))\n",
    "print(len(validation_articles))\n",
    "print(len(validation_labels))"
   ]
  },
  {
   "cell_type": "markdown",
   "metadata": {},
   "source": [
    "Tokenizer does all the heavy lifting for us. In our articles that it was tokenizing, it will take 5,000 most common words. oov_token is to put a special value in when an unseen word is encountered. This means I want \"OOV\" in bracket to be used to for words that are not in the word index. \"fit_on_text\" will go through all the text and create dictionary like this:"
   ]
  },
  {
   "cell_type": "code",
   "execution_count": 7,
   "metadata": {},
   "outputs": [],
   "source": [
    "tokenizer = Tokenizer(num_words = vocab_size, oov_token=oov_tok)\n",
    "tokenizer.fit_on_texts(train_articles)\n",
    "word_index = tokenizer.word_index"
   ]
  },
  {
   "cell_type": "markdown",
   "metadata": {},
   "source": [
    "You can see that \"OOV\" in bracket is number 1, \"said\" is number 2, \"mr\" is number 3, and so on."
   ]
  },
  {
   "cell_type": "code",
   "execution_count": 8,
   "metadata": {},
   "outputs": [
    {
     "data": {
      "text/plain": [
       "{'<OOV>': 1,\n",
       " 'said': 2,\n",
       " 'mr': 3,\n",
       " 'would': 4,\n",
       " 'year': 5,\n",
       " 'also': 6,\n",
       " 'people': 7,\n",
       " 'new': 8,\n",
       " 'us': 9,\n",
       " 'one': 10}"
      ]
     },
     "execution_count": 8,
     "metadata": {},
     "output_type": "execute_result"
    }
   ],
   "source": [
    "dict(list(word_index.items())[0:10])"
   ]
  },
  {
   "cell_type": "markdown",
   "metadata": {},
   "source": [
    "This process cleans up our text, lowercase, and remove punctuations."
   ]
  },
  {
   "cell_type": "markdown",
   "metadata": {},
   "source": [
    "After tokenization, the next step is to turn thoes tokens into lists of sequence."
   ]
  },
  {
   "cell_type": "code",
   "execution_count": 9,
   "metadata": {},
   "outputs": [],
   "source": [
    "train_sequences = tokenizer.texts_to_sequences(train_articles)"
   ]
  },
  {
   "cell_type": "markdown",
   "metadata": {},
   "source": [
    "This is the 11th article in the training data that has been turned into sequences."
   ]
  },
  {
   "cell_type": "code",
   "execution_count": 10,
   "metadata": {},
   "outputs": [
    {
     "name": "stdout",
     "output_type": "stream",
     "text": [
      "[2431, 1, 225, 4996, 22, 641, 587, 225, 4996, 1, 1, 1662, 1, 1, 2431, 22, 565, 1, 1, 140, 278, 1, 140, 278, 796, 822, 662, 2307, 1, 1144, 1693, 1, 1720, 4997, 1, 1, 1, 1, 1, 4738, 1, 1, 122, 4514, 1, 2, 2873, 1505, 352, 4739, 1, 52, 341, 1, 352, 2171, 3962, 41, 22, 3796, 1, 1, 1, 1, 543, 1, 1, 1, 835, 631, 2366, 347, 4740, 1, 365, 22, 1, 787, 2367, 1, 4302, 138, 10, 1, 3665, 682, 3532, 1, 22, 1, 414, 822, 662, 1, 90, 13, 633, 1, 225, 4996, 1, 599, 1, 1693, 1021, 1, 4998, 807, 1864, 117, 1, 1, 1, 2973, 22, 1, 99, 278, 1, 1607, 4999, 543, 493, 1, 1443, 4741, 778, 1320, 1, 1861, 10, 33, 641, 319, 1, 62, 478, 565, 301, 1506, 22, 479, 1, 1, 1665, 1, 797, 1, 3066, 1, 1364, 6, 1, 2431, 565, 22, 2970, 4735, 1, 1, 1, 1, 1, 850, 39, 1825, 675, 297, 26, 979, 1, 882, 22, 361, 22, 13, 301, 1506, 1342, 374, 20, 63, 883, 1096, 4303, 247]\n"
     ]
    }
   ],
   "source": [
    "print(train_sequences[10])"
   ]
  },
  {
   "cell_type": "markdown",
   "metadata": {},
   "source": [
    "When we train neural networks for NLP, we need sequences to be in the same size, that's why we use padding. Our max_length is 200, so we use pad_sequences to make all of our articles the same length which is 200 in my example. That's why you see that the 1st article was 426 in length, becomes 200, the 2nd article was 192 in length, becomes 200, and so on."
   ]
  },
  {
   "cell_type": "code",
   "execution_count": 11,
   "metadata": {},
   "outputs": [],
   "source": [
    "train_padded = pad_sequences(train_sequences, maxlen=max_length, padding=padding_type, truncating=trunc_type)"
   ]
  },
  {
   "cell_type": "code",
   "execution_count": 12,
   "metadata": {},
   "outputs": [
    {
     "name": "stdout",
     "output_type": "stream",
     "text": [
      "426\n",
      "200\n",
      "192\n",
      "200\n",
      "186\n",
      "200\n"
     ]
    }
   ],
   "source": [
    "print(len(train_sequences[0]))\n",
    "print(len(train_padded[0]))\n",
    "\n",
    "print(len(train_sequences[1]))\n",
    "print(len(train_padded[1]))\n",
    "\n",
    "print(len(train_sequences[10]))\n",
    "print(len(train_padded[10]))"
   ]
  },
  {
   "cell_type": "markdown",
   "metadata": {},
   "source": [
    "In addtion, there is padding type and truncating type, there are all \"post\". Means for example, for the 11th article, it was 186 in length, we padded to 200, and we padded at the end, add 14 zeros."
   ]
  },
  {
   "cell_type": "code",
   "execution_count": 13,
   "metadata": {},
   "outputs": [
    {
     "name": "stdout",
     "output_type": "stream",
     "text": [
      "[2431, 1, 225, 4996, 22, 641, 587, 225, 4996, 1, 1, 1662, 1, 1, 2431, 22, 565, 1, 1, 140, 278, 1, 140, 278, 796, 822, 662, 2307, 1, 1144, 1693, 1, 1720, 4997, 1, 1, 1, 1, 1, 4738, 1, 1, 122, 4514, 1, 2, 2873, 1505, 352, 4739, 1, 52, 341, 1, 352, 2171, 3962, 41, 22, 3796, 1, 1, 1, 1, 543, 1, 1, 1, 835, 631, 2366, 347, 4740, 1, 365, 22, 1, 787, 2367, 1, 4302, 138, 10, 1, 3665, 682, 3532, 1, 22, 1, 414, 822, 662, 1, 90, 13, 633, 1, 225, 4996, 1, 599, 1, 1693, 1021, 1, 4998, 807, 1864, 117, 1, 1, 1, 2973, 22, 1, 99, 278, 1, 1607, 4999, 543, 493, 1, 1443, 4741, 778, 1320, 1, 1861, 10, 33, 641, 319, 1, 62, 478, 565, 301, 1506, 22, 479, 1, 1, 1665, 1, 797, 1, 3066, 1, 1364, 6, 1, 2431, 565, 22, 2970, 4735, 1, 1, 1, 1, 1, 850, 39, 1825, 675, 297, 26, 979, 1, 882, 22, 361, 22, 13, 301, 1506, 1342, 374, 20, 63, 883, 1096, 4303, 247]\n"
     ]
    }
   ],
   "source": [
    "print(train_sequences[10])"
   ]
  },
  {
   "cell_type": "code",
   "execution_count": 14,
   "metadata": {},
   "outputs": [
    {
     "name": "stdout",
     "output_type": "stream",
     "text": [
      "[2431    1  225 4996   22  641  587  225 4996    1    1 1662    1    1\n",
      " 2431   22  565    1    1  140  278    1  140  278  796  822  662 2307\n",
      "    1 1144 1693    1 1720 4997    1    1    1    1    1 4738    1    1\n",
      "  122 4514    1    2 2873 1505  352 4739    1   52  341    1  352 2171\n",
      " 3962   41   22 3796    1    1    1    1  543    1    1    1  835  631\n",
      " 2366  347 4740    1  365   22    1  787 2367    1 4302  138   10    1\n",
      " 3665  682 3532    1   22    1  414  822  662    1   90   13  633    1\n",
      "  225 4996    1  599    1 1693 1021    1 4998  807 1864  117    1    1\n",
      "    1 2973   22    1   99  278    1 1607 4999  543  493    1 1443 4741\n",
      "  778 1320    1 1861   10   33  641  319    1   62  478  565  301 1506\n",
      "   22  479    1    1 1665    1  797    1 3066    1 1364    6    1 2431\n",
      "  565   22 2970 4735    1    1    1    1    1  850   39 1825  675  297\n",
      "   26  979    1  882   22  361   22   13  301 1506 1342  374   20   63\n",
      "  883 1096 4303  247    0    0    0    0    0    0    0    0    0    0\n",
      "    0    0    0    0]\n"
     ]
    }
   ],
   "source": [
    "print(train_padded[10])"
   ]
  },
  {
   "cell_type": "markdown",
   "metadata": {},
   "source": [
    "And for the 1st article, it was 426 in length, we truncated to 200, and we truncated at the end."
   ]
  },
  {
   "cell_type": "code",
   "execution_count": 15,
   "metadata": {},
   "outputs": [
    {
     "name": "stdout",
     "output_type": "stream",
     "text": [
      "[91, 160, 1141, 1106, 49, 979, 755, 1, 89, 1304, 4289, 129, 175, 3653, 1215, 1196, 1577, 42, 7, 893, 91, 1, 334, 85, 20, 14, 130, 3261, 1216, 2421, 570, 451, 1375, 58, 3379, 3522, 1660, 8, 921, 730, 10, 844, 1, 9, 598, 1578, 1107, 395, 1940, 1106, 731, 49, 538, 1397, 2011, 1622, 134, 249, 113, 2355, 795, 4981, 980, 584, 10, 3957, 3958, 921, 2562, 129, 344, 175, 3653, 1, 1, 39, 62, 2866, 28, 9, 4723, 18, 1305, 136, 416, 7, 143, 1422, 71, 4501, 436, 4982, 91, 1107, 77, 1, 82, 2012, 53, 1, 91, 6, 1008, 609, 89, 1304, 91, 1963, 131, 137, 420, 9, 2867, 38, 152, 1234, 89, 1304, 4724, 7, 436, 4982, 3153, 6, 2492, 1, 431, 1126, 1, 1423, 571, 1261, 1902, 1, 766, 9, 538, 1397, 2011, 134, 2069, 400, 845, 1964, 1600, 34, 1716, 2868, 1, 1, 2422, 244, 9, 2624, 82, 732, 6, 1173, 1197, 152, 720, 591, 1, 124, 28, 1305, 1689, 432, 83, 933, 115, 20, 14, 18, 3154, 1, 37, 1483, 1, 23, 37, 87, 335, 2356, 37, 467, 255, 1964, 1358, 328, 1, 299, 732, 1174, 18, 2869, 1716, 1, 294, 756, 1074, 395, 2013, 387, 431, 2013, 2, 1359, 1, 1716, 2165, 67, 1, 1, 1717, 249, 1661, 3059, 1175, 395, 41, 878, 1501, 246, 2792, 345, 53, 548, 400, 2, 1, 1, 655, 1360, 203, 91, 3959, 91, 90, 42, 7, 320, 395, 77, 893, 1, 91, 1106, 400, 538, 9, 845, 2422, 11, 38, 1, 995, 514, 484, 2070, 160, 572, 1, 128, 7, 320, 77, 893, 1217, 1126, 1462, 346, 54, 2213, 1218, 741, 92, 256, 274, 1019, 71, 623, 346, 2423, 756, 1216, 2357, 1718, 1, 3785, 3523, 1, 1126, 2013, 177, 371, 1398, 77, 53, 548, 105, 1141, 3, 1, 1047, 93, 2961, 1, 2625, 1, 102, 902, 440, 452, 2, 3, 1, 2870, 451, 1424, 43, 77, 429, 31, 8, 1019, 921, 1, 2562, 30, 1, 91, 1690, 879, 89, 1304, 91, 1963, 1, 30, 8, 1623, 1, 1, 4290, 1579, 4289, 656, 1, 3786, 1008, 572, 4291, 2866, 10, 880, 656, 58, 1, 1262, 1, 1, 91, 1553, 934, 4723, 1, 577, 4106, 10, 9, 235, 2011, 91, 134, 1, 95, 656, 3262, 1, 58, 520, 673, 2626, 3786, 4983, 3380, 484, 4725, 39, 4501, 1, 91, 1747, 673, 269, 116, 239, 2627, 354, 643, 58, 4107, 757, 3654, 4723, 146, 1, 400, 7, 71, 1748, 1107, 767, 910, 118, 584, 3381, 1316, 1578, 1, 1601, 7, 893, 77, 77]\n"
     ]
    }
   ],
   "source": [
    "print(train_sequences[0])"
   ]
  },
  {
   "cell_type": "code",
   "execution_count": 16,
   "metadata": {},
   "outputs": [
    {
     "name": "stdout",
     "output_type": "stream",
     "text": [
      "[  91  160 1141 1106   49  979  755    1   89 1304 4289  129  175 3653\n",
      " 1215 1196 1577   42    7  893   91    1  334   85   20   14  130 3261\n",
      " 1216 2421  570  451 1375   58 3379 3522 1660    8  921  730   10  844\n",
      "    1    9  598 1578 1107  395 1940 1106  731   49  538 1397 2011 1622\n",
      "  134  249  113 2355  795 4981  980  584   10 3957 3958  921 2562  129\n",
      "  344  175 3653    1    1   39   62 2866   28    9 4723   18 1305  136\n",
      "  416    7  143 1422   71 4501  436 4982   91 1107   77    1   82 2012\n",
      "   53    1   91    6 1008  609   89 1304   91 1963  131  137  420    9\n",
      " 2867   38  152 1234   89 1304 4724    7  436 4982 3153    6 2492    1\n",
      "  431 1126    1 1423  571 1261 1902    1  766    9  538 1397 2011  134\n",
      " 2069  400  845 1964 1600   34 1716 2868    1    1 2422  244    9 2624\n",
      "   82  732    6 1173 1197  152  720  591    1  124   28 1305 1689  432\n",
      "   83  933  115   20   14   18 3154    1   37 1483    1   23   37   87\n",
      "  335 2356   37  467  255 1964 1358  328    1  299  732 1174   18 2869\n",
      " 1716    1  294  756]\n"
     ]
    }
   ],
   "source": [
    "print(train_padded[0])"
   ]
  },
  {
   "cell_type": "markdown",
   "metadata": {},
   "source": [
    "Then we do the same for the validation sequences. Note that we should expect more out of vocabulary words from validation articles because word index were derived from the training articles."
   ]
  },
  {
   "cell_type": "code",
   "execution_count": 17,
   "metadata": {},
   "outputs": [
    {
     "name": "stdout",
     "output_type": "stream",
     "text": [
      "445\n",
      "(445, 200)\n"
     ]
    }
   ],
   "source": [
    "validation_sequences = tokenizer.texts_to_sequences(validation_articles)\n",
    "validation_padded = pad_sequences(validation_sequences, maxlen=max_length, padding=padding_type, truncating=trunc_type)\n",
    "\n",
    "print(len(validation_sequences))\n",
    "print(validation_padded.shape)"
   ]
  },
  {
   "cell_type": "markdown",
   "metadata": {},
   "source": [
    "Now we are going to look at the labels. because our labels are text, so we will tokenize them, when training, labels are expected to be numpy arrays. So we will turn list of labels into numpy arrays like so:"
   ]
  },
  {
   "cell_type": "code",
   "execution_count": 18,
   "metadata": {},
   "outputs": [
    {
     "name": "stdout",
     "output_type": "stream",
     "text": [
      "{'sport', 'tech', 'entertainment', 'politics', 'business'}\n"
     ]
    }
   ],
   "source": [
    "print(set(labels))"
   ]
  },
  {
   "cell_type": "code",
   "execution_count": 19,
   "metadata": {},
   "outputs": [],
   "source": [
    "label_tokenizer = Tokenizer()\n",
    "label_tokenizer.fit_on_texts(labels)\n",
    "\n",
    "training_label_seq = np.array(label_tokenizer.texts_to_sequences(train_labels))\n",
    "validation_label_seq = np.array(label_tokenizer.texts_to_sequences(validation_labels))"
   ]
  },
  {
   "cell_type": "code",
   "execution_count": 20,
   "metadata": {},
   "outputs": [
    {
     "name": "stdout",
     "output_type": "stream",
     "text": [
      "[4]\n",
      "[2]\n",
      "[1]\n",
      "(1780, 1)\n",
      "[5]\n",
      "[4]\n",
      "[3]\n",
      "(445, 1)\n"
     ]
    }
   ],
   "source": [
    "print(training_label_seq[0])\n",
    "print(training_label_seq[1])\n",
    "print(training_label_seq[2])\n",
    "print(training_label_seq.shape)\n",
    "\n",
    "print(validation_label_seq[0])\n",
    "print(validation_label_seq[1])\n",
    "print(validation_label_seq[2])\n",
    "print(validation_label_seq.shape)"
   ]
  },
  {
   "cell_type": "markdown",
   "metadata": {},
   "source": [
    "Before training deep neural network, we want to explore what our original article and article after padding look like. Running the following code, we explore the 11th article, we can see that some words become \"OOV\", because they did not make to the top 5,000."
   ]
  },
  {
   "cell_type": "code",
   "execution_count": 21,
   "metadata": {},
   "outputs": [
    {
     "name": "stdout",
     "output_type": "stream",
     "text": [
      "berlin <OOV> anti nazi film german movie anti nazi <OOV> <OOV> drawn <OOV> <OOV> berlin film festival <OOV> <OOV> final days <OOV> final days member white rose movement <OOV> 21 arrested <OOV> brother hans <OOV> <OOV> <OOV> <OOV> <OOV> tyranny <OOV> <OOV> director marc <OOV> said feeling responsibility keep legacy <OOV> going must <OOV> keep ideas alive added film drew <OOV> <OOV> <OOV> <OOV> trial <OOV> <OOV> <OOV> east germany secret police discovery <OOV> behind film <OOV> worked closely <OOV> relatives including one <OOV> sisters ensure historical <OOV> film <OOV> members white rose <OOV> group first started <OOV> anti nazi <OOV> summer <OOV> arrested dropped <OOV> munich university calling day <OOV> <OOV> <OOV> regime film <OOV> six days <OOV> arrest intense trial saw <OOV> initially deny charges ended <OOV> appearance one three german films <OOV> top prize festival south african film version <OOV> <OOV> opera <OOV> shot <OOV> town <OOV> language also <OOV> berlin festival film entitled u <OOV> <OOV> <OOV> <OOV> <OOV> story set performed 40 strong music theatre <OOV> debut film performance film first south african feature 25 years second nominated golden bear award ? ? ? ? ? ? ? ? ? ? ? ? ? ?\n",
      "---\n",
      "berlin cheers anti-nazi film german movie anti-nazi resistance heroine drawn loud applause berlin film festival.  sophie scholl - final days portrays final days member white rose movement. scholl  21  arrested beheaded brother  hans  1943 distributing leaflets condemning  abhorrent tyranny  adolf hitler. director marc rothemund said:  feeling responsibility keep legacy scholls going.   must somehow keep ideas alive   added.  film drew transcripts gestapo interrogations scholl trial preserved archive communist east germany secret police. discovery inspiration behind film rothemund  worked closely surviving relatives  including one scholl sisters  ensure historical accuracy film. scholl members white rose resistance group first started distributing anti-nazi leaflets summer 1942. arrested dropped leaflets munich university calling  day reckoning  adolf hitler regime. film focuses six days scholl arrest intense trial saw scholl initially deny charges ended defiant appearance. one three german films vying top prize festival.  south african film version bizet tragic opera carmen shot cape town xhosa language also premiered berlin festival. film entitled u-carmen ekhayelitsha carmen khayelitsha township story set. performed 40-strong music theatre troupe debut film performance. film first south african feature 25 years second nominated golden bear award.\n"
     ]
    }
   ],
   "source": [
    "reverse_word_index = dict([(value, key) for (key, value) in word_index.items()])\n",
    "\n",
    "def decode_article(text):\n",
    "    return ' '.join([reverse_word_index.get(i, '?') for i in text])\n",
    "print(decode_article(train_padded[10]))\n",
    "print('---')\n",
    "print(train_articles[10])"
   ]
  },
  {
   "cell_type": "markdown",
   "metadata": {},
   "source": [
    "Now we can implement LSTM. Here is my code that I build a tf.keras.Sequential model and start with an embedding layer. An embedding layer stores one vector per word. When called, it converts the sequences of word indices into sequences of vectors. After training, words with similar meanings often have the similar vectors.\n",
    "\n",
    "Next is how to implement LSTM in code. The Bidirectional wrapper is used with a LSTM layer, this propagates the input forwards and backwards through the LSTM layer and then concatenates the outputs. This helps LSTM to learn long term dependencies. We then fit it to a dense neural network to do classification.\n",
    "\n",
    "This index-lookup is much more efficient than the equivalent operation of passing a one-hot encoded vector through a tf.keras.layers.Dense layer."
   ]
  },
  {
   "cell_type": "code",
   "execution_count": 22,
   "metadata": {},
   "outputs": [
    {
     "name": "stdout",
     "output_type": "stream",
     "text": [
      "Model: \"sequential\"\n",
      "_________________________________________________________________\n",
      "Layer (type)                 Output Shape              Param #   \n",
      "=================================================================\n",
      "embedding (Embedding)        (None, None, 64)          320000    \n",
      "_________________________________________________________________\n",
      "bidirectional (Bidirectional (None, 128)               66048     \n",
      "_________________________________________________________________\n",
      "dense (Dense)                (None, 64)                8256      \n",
      "_________________________________________________________________\n",
      "dense_1 (Dense)              (None, 6)                 390       \n",
      "=================================================================\n",
      "Total params: 394,694\n",
      "Trainable params: 394,694\n",
      "Non-trainable params: 0\n",
      "_________________________________________________________________\n"
     ]
    }
   ],
   "source": [
    "model = tf.keras.Sequential([\n",
    "    # Add an Embedding layer expecting input vocab of size 5000, and output embedding dimension of size 64 we set at the top\n",
    "    tf.keras.layers.Embedding(vocab_size, embedding_dim),\n",
    "    tf.keras.layers.Bidirectional(tf.keras.layers.LSTM(embedding_dim)),\n",
    "#    tf.keras.layers.Bidirectional(tf.keras.layers.LSTM(32)),\n",
    "    # use ReLU in place of tanh function since they are very good alternatives of each other.\n",
    "    tf.keras.layers.Dense(embedding_dim, activation='relu'),\n",
    "    # Add a Dense layer with 6 units and softmax activation.\n",
    "    # When we have multiple outputs, softmax convert outputs layers into a probability distribution.\n",
    "    tf.keras.layers.Dense(6, activation='softmax')\n",
    "])\n",
    "model.summary()"
   ]
  },
  {
   "cell_type": "markdown",
   "metadata": {},
   "source": [
    "In our model summay, we have our embeddings, our Bidirectional contains LSTM, followed by two dense layers. The output from Bidirectional is 128, because it doubled what we put in LSTM. We can also stack LSTM layer but I found the results worse."
   ]
  },
  {
   "cell_type": "code",
   "execution_count": 23,
   "metadata": {},
   "outputs": [],
   "source": [
    "model.compile(loss='sparse_categorical_crossentropy', optimizer='adam', metrics=['accuracy'])"
   ]
  },
  {
   "cell_type": "code",
   "execution_count": 35,
   "metadata": {},
   "outputs": [
    {
     "name": "stdout",
     "output_type": "stream",
     "text": [
      "Epoch 1/100\n",
      "56/56 - 5s - loss: 0.0058 - accuracy: 0.9989 - val_loss: 0.2439 - val_accuracy: 0.9461\n",
      "Epoch 2/100\n",
      "56/56 - 5s - loss: 0.0044 - accuracy: 0.9994 - val_loss: 0.2535 - val_accuracy: 0.9438\n",
      "Epoch 3/100\n",
      "56/56 - 5s - loss: 0.0012 - accuracy: 1.0000 - val_loss: 0.2591 - val_accuracy: 0.9483\n",
      "Epoch 4/100\n",
      "56/56 - 5s - loss: 8.5501e-04 - accuracy: 1.0000 - val_loss: 0.2725 - val_accuracy: 0.9461\n",
      "Epoch 5/100\n",
      "56/56 - 5s - loss: 6.7336e-04 - accuracy: 1.0000 - val_loss: 0.2773 - val_accuracy: 0.9438\n",
      "Epoch 6/100\n",
      "56/56 - 5s - loss: 5.4894e-04 - accuracy: 1.0000 - val_loss: 0.2858 - val_accuracy: 0.9438\n",
      "Epoch 7/100\n",
      "56/56 - 5s - loss: 4.5989e-04 - accuracy: 1.0000 - val_loss: 0.2898 - val_accuracy: 0.9438\n",
      "Epoch 8/100\n",
      "56/56 - 5s - loss: 5.8609e-04 - accuracy: 1.0000 - val_loss: 0.2298 - val_accuracy: 0.9551\n",
      "Epoch 9/100\n",
      "56/56 - 5s - loss: 4.7433e-04 - accuracy: 1.0000 - val_loss: 0.2953 - val_accuracy: 0.9461\n",
      "Epoch 10/100\n",
      "56/56 - 5s - loss: 3.4343e-04 - accuracy: 1.0000 - val_loss: 0.2856 - val_accuracy: 0.9438\n",
      "Epoch 11/100\n",
      "56/56 - 5s - loss: 2.8661e-04 - accuracy: 1.0000 - val_loss: 0.2902 - val_accuracy: 0.9438\n",
      "Epoch 12/100\n",
      "56/56 - 5s - loss: 2.4584e-04 - accuracy: 1.0000 - val_loss: 0.2967 - val_accuracy: 0.9438\n",
      "Epoch 13/100\n",
      "56/56 - 5s - loss: 2.1515e-04 - accuracy: 1.0000 - val_loss: 0.3021 - val_accuracy: 0.9461\n",
      "Epoch 14/100\n",
      "56/56 - 5s - loss: 1.9110e-04 - accuracy: 1.0000 - val_loss: 0.3081 - val_accuracy: 0.9461\n",
      "Epoch 15/100\n",
      "56/56 - 5s - loss: 1.7116e-04 - accuracy: 1.0000 - val_loss: 0.3141 - val_accuracy: 0.9438\n",
      "Epoch 16/100\n",
      "56/56 - 6s - loss: 1.5526e-04 - accuracy: 1.0000 - val_loss: 0.3187 - val_accuracy: 0.9438\n",
      "Epoch 17/100\n",
      "56/56 - 6s - loss: 1.4032e-04 - accuracy: 1.0000 - val_loss: 0.3241 - val_accuracy: 0.9438\n",
      "Epoch 18/100\n",
      "56/56 - 7s - loss: 1.2819e-04 - accuracy: 1.0000 - val_loss: 0.3285 - val_accuracy: 0.9438\n",
      "Epoch 19/100\n",
      "56/56 - 6s - loss: 1.1605e-04 - accuracy: 1.0000 - val_loss: 0.3301 - val_accuracy: 0.9438\n",
      "Epoch 20/100\n",
      "56/56 - 5s - loss: 1.0828e-04 - accuracy: 1.0000 - val_loss: 0.3326 - val_accuracy: 0.9438\n",
      "Epoch 21/100\n",
      "56/56 - 5s - loss: 9.9510e-05 - accuracy: 1.0000 - val_loss: 0.3352 - val_accuracy: 0.9438\n",
      "Epoch 22/100\n",
      "56/56 - 5s - loss: 9.0993e-05 - accuracy: 1.0000 - val_loss: 0.3377 - val_accuracy: 0.9438\n",
      "Epoch 23/100\n",
      "56/56 - 5s - loss: 8.5519e-05 - accuracy: 1.0000 - val_loss: 0.3378 - val_accuracy: 0.9461\n",
      "Epoch 24/100\n",
      "56/56 - 6s - loss: 7.9369e-05 - accuracy: 1.0000 - val_loss: 0.3367 - val_accuracy: 0.9461\n",
      "Epoch 25/100\n",
      "56/56 - 7s - loss: 7.3027e-05 - accuracy: 1.0000 - val_loss: 0.3319 - val_accuracy: 0.9483\n",
      "Epoch 26/100\n",
      "56/56 - 5s - loss: 6.8345e-05 - accuracy: 1.0000 - val_loss: 0.3332 - val_accuracy: 0.9483\n",
      "Epoch 27/100\n",
      "56/56 - 6s - loss: 0.0105 - accuracy: 0.9966 - val_loss: 0.3748 - val_accuracy: 0.9101\n",
      "Epoch 28/100\n",
      "56/56 - 5s - loss: 0.0313 - accuracy: 0.9910 - val_loss: 0.3421 - val_accuracy: 0.9146\n",
      "Epoch 29/100\n",
      "56/56 - 6s - loss: 0.0249 - accuracy: 0.9944 - val_loss: 0.2885 - val_accuracy: 0.9146\n",
      "Epoch 30/100\n",
      "56/56 - 6s - loss: 0.0017 - accuracy: 1.0000 - val_loss: 0.3034 - val_accuracy: 0.9146\n",
      "Epoch 31/100\n",
      "56/56 - 5s - loss: 6.5077e-04 - accuracy: 1.0000 - val_loss: 0.3158 - val_accuracy: 0.9146\n",
      "Epoch 32/100\n",
      "56/56 - 6s - loss: 4.3286e-04 - accuracy: 1.0000 - val_loss: 0.3186 - val_accuracy: 0.9146\n",
      "Epoch 33/100\n",
      "56/56 - 5s - loss: 3.2656e-04 - accuracy: 1.0000 - val_loss: 0.3209 - val_accuracy: 0.9191\n",
      "Epoch 34/100\n",
      "56/56 - 5s - loss: 2.6054e-04 - accuracy: 1.0000 - val_loss: 0.3225 - val_accuracy: 0.9191\n",
      "Epoch 35/100\n",
      "56/56 - 5s - loss: 2.1653e-04 - accuracy: 1.0000 - val_loss: 0.3237 - val_accuracy: 0.9213\n",
      "Epoch 36/100\n",
      "56/56 - 5s - loss: 1.8280e-04 - accuracy: 1.0000 - val_loss: 0.3251 - val_accuracy: 0.9213\n",
      "Epoch 37/100\n",
      "56/56 - 7s - loss: 1.5764e-04 - accuracy: 1.0000 - val_loss: 0.3270 - val_accuracy: 0.9191\n",
      "Epoch 38/100\n",
      "56/56 - 7s - loss: 1.3786e-04 - accuracy: 1.0000 - val_loss: 0.3281 - val_accuracy: 0.9213\n",
      "Epoch 39/100\n",
      "56/56 - 6s - loss: 1.2199e-04 - accuracy: 1.0000 - val_loss: 0.3289 - val_accuracy: 0.9213\n",
      "Epoch 40/100\n",
      "56/56 - 6s - loss: 1.0885e-04 - accuracy: 1.0000 - val_loss: 0.3301 - val_accuracy: 0.9213\n",
      "Epoch 41/100\n",
      "56/56 - 6s - loss: 9.8351e-05 - accuracy: 1.0000 - val_loss: 0.3311 - val_accuracy: 0.9213\n",
      "Epoch 42/100\n",
      "56/56 - 6s - loss: 8.8615e-05 - accuracy: 1.0000 - val_loss: 0.3318 - val_accuracy: 0.9236\n",
      "Epoch 43/100\n",
      "56/56 - 5s - loss: 8.0767e-05 - accuracy: 1.0000 - val_loss: 0.3328 - val_accuracy: 0.9258\n",
      "Epoch 44/100\n",
      "56/56 - 5s - loss: 7.3968e-05 - accuracy: 1.0000 - val_loss: 0.3336 - val_accuracy: 0.9258\n",
      "Epoch 45/100\n",
      "56/56 - 5s - loss: 6.8040e-05 - accuracy: 1.0000 - val_loss: 0.3346 - val_accuracy: 0.9258\n",
      "Epoch 46/100\n",
      "56/56 - 6s - loss: 6.2970e-05 - accuracy: 1.0000 - val_loss: 0.3352 - val_accuracy: 0.9258\n",
      "Epoch 47/100\n",
      "56/56 - 5s - loss: 5.8157e-05 - accuracy: 1.0000 - val_loss: 0.3357 - val_accuracy: 0.9258\n",
      "Epoch 48/100\n",
      "56/56 - 5s - loss: 5.3979e-05 - accuracy: 1.0000 - val_loss: 0.3366 - val_accuracy: 0.9281\n",
      "Epoch 49/100\n",
      "56/56 - 5s - loss: 5.0285e-05 - accuracy: 1.0000 - val_loss: 0.3370 - val_accuracy: 0.9281\n",
      "Epoch 50/100\n",
      "56/56 - 5s - loss: 4.6946e-05 - accuracy: 1.0000 - val_loss: 0.3377 - val_accuracy: 0.9281\n",
      "Epoch 51/100\n",
      "56/56 - 4s - loss: 4.3934e-05 - accuracy: 1.0000 - val_loss: 0.3382 - val_accuracy: 0.9281\n",
      "Epoch 52/100\n",
      "56/56 - 4s - loss: 4.1306e-05 - accuracy: 1.0000 - val_loss: 0.3388 - val_accuracy: 0.9281\n",
      "Epoch 53/100\n",
      "56/56 - 3s - loss: 3.8682e-05 - accuracy: 1.0000 - val_loss: 0.3391 - val_accuracy: 0.9281\n",
      "Epoch 54/100\n",
      "56/56 - 3s - loss: 3.6393e-05 - accuracy: 1.0000 - val_loss: 0.3396 - val_accuracy: 0.9281\n",
      "Epoch 55/100\n",
      "56/56 - 3s - loss: 3.4281e-05 - accuracy: 1.0000 - val_loss: 0.3401 - val_accuracy: 0.9281\n",
      "Epoch 56/100\n",
      "56/56 - 4s - loss: 3.2373e-05 - accuracy: 1.0000 - val_loss: 0.3406 - val_accuracy: 0.9303\n",
      "Epoch 57/100\n",
      "56/56 - 3s - loss: 3.0575e-05 - accuracy: 1.0000 - val_loss: 0.3413 - val_accuracy: 0.9303\n",
      "Epoch 58/100\n",
      "56/56 - 3s - loss: 2.9008e-05 - accuracy: 1.0000 - val_loss: 0.3417 - val_accuracy: 0.9303\n",
      "Epoch 59/100\n",
      "56/56 - 4s - loss: 2.7383e-05 - accuracy: 1.0000 - val_loss: 0.3420 - val_accuracy: 0.9303\n",
      "Epoch 60/100\n",
      "56/56 - 3s - loss: 2.5983e-05 - accuracy: 1.0000 - val_loss: 0.3425 - val_accuracy: 0.9303\n",
      "Epoch 61/100\n",
      "56/56 - 3s - loss: 2.4644e-05 - accuracy: 1.0000 - val_loss: 0.3430 - val_accuracy: 0.9303\n",
      "Epoch 62/100\n",
      "56/56 - 3s - loss: 2.3416e-05 - accuracy: 1.0000 - val_loss: 0.3437 - val_accuracy: 0.9303\n",
      "Epoch 63/100\n",
      "56/56 - 3s - loss: 2.2262e-05 - accuracy: 1.0000 - val_loss: 0.3440 - val_accuracy: 0.9303\n",
      "Epoch 64/100\n",
      "56/56 - 3s - loss: 2.1223e-05 - accuracy: 1.0000 - val_loss: 0.3447 - val_accuracy: 0.9303\n",
      "Epoch 65/100\n",
      "56/56 - 3s - loss: 2.0178e-05 - accuracy: 1.0000 - val_loss: 0.3452 - val_accuracy: 0.9303\n",
      "Epoch 66/100\n",
      "56/56 - 3s - loss: 1.9237e-05 - accuracy: 1.0000 - val_loss: 0.3460 - val_accuracy: 0.9326\n",
      "Epoch 67/100\n",
      "56/56 - 3s - loss: 1.8374e-05 - accuracy: 1.0000 - val_loss: 0.3463 - val_accuracy: 0.9326\n",
      "Epoch 68/100\n",
      "56/56 - 3s - loss: 1.7562e-05 - accuracy: 1.0000 - val_loss: 0.3467 - val_accuracy: 0.9371\n",
      "Epoch 69/100\n",
      "56/56 - 3s - loss: 1.6716e-05 - accuracy: 1.0000 - val_loss: 0.3474 - val_accuracy: 0.9371\n",
      "Epoch 70/100\n",
      "56/56 - 3s - loss: 1.5997e-05 - accuracy: 1.0000 - val_loss: 0.3479 - val_accuracy: 0.9371\n",
      "Epoch 71/100\n",
      "56/56 - 3s - loss: 1.5273e-05 - accuracy: 1.0000 - val_loss: 0.3484 - val_accuracy: 0.9371\n",
      "Epoch 72/100\n",
      "56/56 - 3s - loss: 1.4634e-05 - accuracy: 1.0000 - val_loss: 0.3492 - val_accuracy: 0.9371\n",
      "Epoch 73/100\n",
      "56/56 - 3s - loss: 1.3992e-05 - accuracy: 1.0000 - val_loss: 0.3498 - val_accuracy: 0.9371\n",
      "Epoch 74/100\n",
      "56/56 - 3s - loss: 1.3416e-05 - accuracy: 1.0000 - val_loss: 0.3505 - val_accuracy: 0.9371\n",
      "Epoch 75/100\n",
      "56/56 - 3s - loss: 1.2844e-05 - accuracy: 1.0000 - val_loss: 0.3510 - val_accuracy: 0.9371\n",
      "Epoch 76/100\n",
      "56/56 - 3s - loss: 1.2331e-05 - accuracy: 1.0000 - val_loss: 0.3515 - val_accuracy: 0.9371\n",
      "Epoch 77/100\n",
      "56/56 - 3s - loss: 1.1809e-05 - accuracy: 1.0000 - val_loss: 0.3522 - val_accuracy: 0.9371\n",
      "Epoch 78/100\n",
      "56/56 - 3s - loss: 1.1354e-05 - accuracy: 1.0000 - val_loss: 0.3529 - val_accuracy: 0.9371\n",
      "Epoch 79/100\n",
      "56/56 - 3s - loss: 1.0880e-05 - accuracy: 1.0000 - val_loss: 0.3535 - val_accuracy: 0.9371\n",
      "Epoch 80/100\n",
      "56/56 - 3s - loss: 1.0455e-05 - accuracy: 1.0000 - val_loss: 0.3542 - val_accuracy: 0.9371\n",
      "Epoch 81/100\n",
      "56/56 - 3s - loss: 1.0041e-05 - accuracy: 1.0000 - val_loss: 0.3549 - val_accuracy: 0.9371\n",
      "Epoch 82/100\n",
      "56/56 - 3s - loss: 9.6435e-06 - accuracy: 1.0000 - val_loss: 0.3554 - val_accuracy: 0.9371\n",
      "Epoch 83/100\n",
      "56/56 - 3s - loss: 9.2710e-06 - accuracy: 1.0000 - val_loss: 0.3561 - val_accuracy: 0.9371\n",
      "Epoch 84/100\n",
      "56/56 - 3s - loss: 8.9156e-06 - accuracy: 1.0000 - val_loss: 0.3569 - val_accuracy: 0.9371\n",
      "Epoch 85/100\n",
      "56/56 - 3s - loss: 8.6839e-06 - accuracy: 1.0000 - val_loss: 0.3575 - val_accuracy: 0.9371\n",
      "Epoch 86/100\n",
      "56/56 - 3s - loss: 8.2398e-06 - accuracy: 1.0000 - val_loss: 0.3582 - val_accuracy: 0.9371\n",
      "Epoch 87/100\n",
      "56/56 - 3s - loss: 7.9375e-06 - accuracy: 1.0000 - val_loss: 0.3588 - val_accuracy: 0.9371\n",
      "Epoch 88/100\n",
      "56/56 - 3s - loss: 7.6325e-06 - accuracy: 1.0000 - val_loss: 0.3595 - val_accuracy: 0.9371\n",
      "Epoch 89/100\n",
      "56/56 - 3s - loss: 7.3570e-06 - accuracy: 1.0000 - val_loss: 0.3601 - val_accuracy: 0.9371\n",
      "Epoch 90/100\n",
      "56/56 - 3s - loss: 7.1210e-06 - accuracy: 1.0000 - val_loss: 0.3607 - val_accuracy: 0.9371\n",
      "Epoch 91/100\n",
      "56/56 - 3s - loss: 6.8228e-06 - accuracy: 1.0000 - val_loss: 0.3616 - val_accuracy: 0.9371\n",
      "Epoch 92/100\n",
      "56/56 - 3s - loss: 6.5776e-06 - accuracy: 1.0000 - val_loss: 0.3622 - val_accuracy: 0.9371\n",
      "Epoch 93/100\n",
      "56/56 - 3s - loss: 6.3660e-06 - accuracy: 1.0000 - val_loss: 0.3629 - val_accuracy: 0.9371\n",
      "Epoch 94/100\n",
      "56/56 - 3s - loss: 6.1059e-06 - accuracy: 1.0000 - val_loss: 0.3636 - val_accuracy: 0.9371\n",
      "Epoch 95/100\n",
      "56/56 - 3s - loss: 5.9012e-06 - accuracy: 1.0000 - val_loss: 0.3642 - val_accuracy: 0.9371\n",
      "Epoch 96/100\n",
      "56/56 - 3s - loss: 5.6880e-06 - accuracy: 1.0000 - val_loss: 0.3648 - val_accuracy: 0.9348\n",
      "Epoch 97/100\n",
      "56/56 - 3s - loss: 5.4829e-06 - accuracy: 1.0000 - val_loss: 0.3655 - val_accuracy: 0.9371\n",
      "Epoch 98/100\n",
      "56/56 - 3s - loss: 5.2919e-06 - accuracy: 1.0000 - val_loss: 0.3662 - val_accuracy: 0.9371\n",
      "Epoch 99/100\n",
      "56/56 - 3s - loss: 5.1131e-06 - accuracy: 1.0000 - val_loss: 0.3669 - val_accuracy: 0.9371\n",
      "Epoch 100/100\n",
      "56/56 - 3s - loss: 4.9963e-06 - accuracy: 1.0000 - val_loss: 0.3674 - val_accuracy: 0.9371\n"
     ]
    }
   ],
   "source": [
    "num_epochs = 100\n",
    "history = model.fit(train_padded, training_label_seq, epochs=num_epochs, validation_data=(validation_padded, validation_label_seq), verbose=2)"
   ]
  },
  {
   "cell_type": "code",
   "execution_count": 36,
   "metadata": {},
   "outputs": [
    {
     "data": {
      "image/png": "[encoded data removed]",
      "text/plain": [
       "<Figure size 432x288 with 1 Axes>"
      ]
     },
     "metadata": {
      "needs_background": "light"
     },
     "output_type": "display_data"
    },
    {
     "data": {
      "image/png": "[encoded data removed]",
      "text/plain": [
       "<Figure size 432x288 with 1 Axes>"
      ]
     },
     "metadata": {
      "needs_background": "light"
     },
     "output_type": "display_data"
    }
   ],
   "source": [
    "from matplotlib import pyplot as plt\n",
    "def plot_graphs(history, string):\n",
    "  plt.plot(history.history[string])\n",
    "  plt.plot(history.history['val_'+string])\n",
    "  plt.xlabel(\"Epochs\")\n",
    "  plt.ylabel(string)\n",
    "  plt.legend([string, 'val_'+string])\n",
    "  plt.show()\n",
    "  \n",
    "plot_graphs(history, \"accuracy\")\n",
    "plot_graphs(history, \"loss\")"
   ]
  },
  {
   "cell_type": "code",
   "execution_count": 37,
   "metadata": {},
   "outputs": [
    {
     "data": {
      "text/plain": [
       "array([[4.3389015e-08, 9.9998915e-01, 1.5125440e-06, 5.8632822e-06,\n",
       "        9.6359042e-07, 2.5620745e-06]], dtype=float32)"
      ]
     },
     "execution_count": 37,
     "metadata": {},
     "output_type": "execute_result"
    }
   ],
   "source": [
    "txt = [\"A WeWork shareholder has taken the company to court over the near-$1.7bn (£1.3bn) leaving package approved for ousted co-founder Adam Neumann.\"]\n",
    "seq = tokenizer.texts_to_sequences(txt)\n",
    "padded = pad_sequences(seq, maxlen=max_length)\n",
    "pred = model.predict(padded)\n",
    "pred"
   ]
  },
  {
   "cell_type": "code",
   "execution_count": 38,
   "metadata": {},
   "outputs": [
    {
     "name": "stdout",
     "output_type": "stream",
     "text": [
      "[[4.3389015e-08 9.9998915e-01 1.5125440e-06 5.8632822e-06 9.6359042e-07\n",
      "  2.5620745e-06]] bussiness\n"
     ]
    }
   ],
   "source": [
    "txt = [\"A WeWork shareholder has taken the company to court over the near-$1.7bn (£1.3bn) leaving package approved for ousted co-founder Adam Neumann.\"]\n",
    "seq = tokenizer.texts_to_sequences(txt)\n",
    "padded = pad_sequences(seq, maxlen=max_length)\n",
    "pred = model.predict(padded)\n",
    "labels = ['sport', 'bussiness', 'politics', 'tech', 'entertainment','unknown']\n",
    "print(pred, labels[np.argmax(pred)])"
   ]
  },
  {
   "cell_type": "code",
   "execution_count": 39,
   "metadata": {},
   "outputs": [
    {
     "data": {
      "text/plain": [
       "1"
      ]
     },
     "execution_count": 39,
     "metadata": {},
     "output_type": "execute_result"
    }
   ],
   "source": [
    "np.argmax(pred)"
   ]
  },
  {
   "cell_type": "code",
   "execution_count": null,
   "metadata": {},
   "outputs": [],
   "source": []
  }
 ],
 "metadata": {
  "kernelspec": {
   "display_name": "Python 3",
   "language": "python",
   "name": "python3"
  },
  "language_info": {
   "codemirror_mode": {
    "name": "ipython",
    "version": 3
   },
   "file_extension": ".py",
   "mimetype": "text/x-python",
   "name": "python",
   "nbconvert_exporter": "python",
   "pygments_lexer": "ipython3",
   "version": "3.6.9"
  }
 },
 "nbformat": 4,
 "nbformat_minor": 4
}
